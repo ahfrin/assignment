{
 "cells": [
  {
   "cell_type": "markdown",
   "id": "b96e9493-1978-431a-af8d-b9258ef6f32e",
   "metadata": {},
   "source": [
    "1. Why might you choose a deque from the collections module to implement a queue instead of using a regular Python list?\n",
    "\n",
    "Ans: We might choose a deque from the collections module to implement a queue instead of using a regular Python list in the cases where we need quicker append and pop operations from both the ends of the container, as deque provides an O(1) time complexity for append and pop operation as compared to a list that provides O(n) time complexity.\n"
   ]
  },
  {
   "cell_type": "markdown",
   "id": "41359812-4089-41ec-a5ea-d874f3fc7d69",
   "metadata": {},
   "source": [
    "2.  Can you explain a real-world scenario where using a stack would be a more practical choice than a list for data storage and retrieval?\n",
    "\n",
    "Ans:Stack can be used in systems where memory is allocated in a static way to manage memory allocation or track which memory blocks are in use. It can also be used to keep track of function calls in a program and ensure that the program returns to the correct location when a function is complete.For example, the Java Virtual Machine (JVM) uses this concept in keeping track of the state of a running Java program"
   ]
  },
  {
   "cell_type": "markdown",
   "id": "8e420c6f-f211-4363-9c55-9d9315aa7209",
   "metadata": {},
   "source": [
    "3. What is the primary advantage of using sets in Python, and in what type of problem-solving scenarios are they most useful?\n",
    "\n",
    "Ans:A set in Python programming is an unordered collection data type that is iterable, mutable and has no duplicate elements.The primary advantage of using a set in Python is that it has a highly optimized method for checking whether a specific element is contained in the set.Sets can be used to perform different set operations like union, intersection, difference and symmetric difference."
   ]
  },
  {
   "cell_type": "markdown",
   "id": "ba141d35-3fe1-41a8-9863-f2ef2902fdb6",
   "metadata": {},
   "source": [
    "4. When might you choose to use an array instead of a list for storing numerical data in Python? What benefits do arrays offer in this context?\n",
    "\n",
    "Ans:An array in Python is a data structure that stores a collection of items of the same type.Python arrays are specialised data structures designed for specific use cases, especially when dealing with homogeneous data, primarily numeric values.Python arrays are ideal for performing mathematical operations on large sets of numeric data due to their fixed size and uniform data type, arrays facilitate vectorised operations, allowing for faster and more efficient computations.Tasks such as matrix operations, statistical calculations, and mathematical simulations benefit significantly from the performance gains offered by arrays.\n",
    "When dealing with massive datasets containing uniform data, Python arrays are memory efficient choices. Unlike lists, arrays allocate contiguous memory locations, reducing memory overhead and enabling more efficient memory utilisation, making them a preferred option when working with big data."
   ]
  },
  {
   "cell_type": "markdown",
   "id": "d33da4c8-c8e8-40ec-8360-67bc2f3ac8f1",
   "metadata": {},
   "source": [
    "5.In Python, what's the primary difference between dictionaries and lists, and how does this difference impact their use cases in programming?\n",
    "\n",
    "Ans:In Python, a dictionary is an unordered collection that stores data as key pairs, differing from other data types that store single values.In a dictionary, each key pair is delimited by a colon(:), and individual key are distinguished by commas.This structure offers enhanced optimization and a list in Python is an ordered, mutable collection of elements, enclosed in square brackets[], allowing duplicates and supporting various operations like appending, removing and slicing.The difference between list and dictionaries in Python lies in their dtructure; while a list is an ordered collection indexed by position and allowing duplicates, a dictionary is an unordered collection of unique key pairs.Elements from the list can be accessed using the index, while the elements of the dictionary can be accesed using keys.The list allows duplicate items, while the dictionary does not allow any duplicate keys.\n",
    "A list can store any data type. In contrast, keys in the dictionary can be of any immutable data type, and values can be of any data type.List perform faster for ordered operations like sorting, while dictionaries perform faster for lookup operations.\n",
    "\n"
   ]
  }
 ],
 "metadata": {
  "kernelspec": {
   "display_name": "Python 3 (ipykernel)",
   "language": "python",
   "name": "python3"
  },
  "language_info": {
   "codemirror_mode": {
    "name": "ipython",
    "version": 3
   },
   "file_extension": ".py",
   "mimetype": "text/x-python",
   "name": "python",
   "nbconvert_exporter": "python",
   "pygments_lexer": "ipython3",
   "version": "3.10.8"
  }
 },
 "nbformat": 4,
 "nbformat_minor": 5
}
