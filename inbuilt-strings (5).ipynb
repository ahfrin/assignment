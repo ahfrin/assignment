{
 "cells": [
  {
   "cell_type": "markdown",
   "id": "094f4c62-e459-4080-829e-4e47d61ad405",
   "metadata": {},
   "source": [
    "Q1. What is the purpose of the len() function in python, and how can it be used with strings?\n",
    "\n",
    "Ans: The python len() function is used to return a numeric value that denotes the length of the given list, tuple, string, array, dictionary, etc.Python len() function also works with strings. It returns the count i.e. number of characters of that string. If there exists any space between 2 words in a string of characters, then the len() function will also include it in the count."
   ]
  },
  {
   "cell_type": "markdown",
   "id": "a7dc0100-ada5-4467-adce-bacf89d26b2e",
   "metadata": {},
   "source": [
    "Q2.How can you concatenate two or more string string in python, and can you provide an example of string concatenation?\n",
    "\n",
    "Ans: We can concatenate two or more strings in python by using the '+' operator."
   ]
  },
  {
   "cell_type": "code",
   "execution_count": 2,
   "id": "be40ecf0-9985-4e69-8ba9-2ab5b3f977e8",
   "metadata": {},
   "outputs": [
    {
     "name": "stdout",
     "output_type": "stream",
     "text": [
      "Hello World\n"
     ]
    }
   ],
   "source": [
    "#Example of string concatenation\n",
    "str1='Hello'\n",
    "str2='World'\n",
    "print(str1+' '+str2)"
   ]
  },
  {
   "cell_type": "markdown",
   "id": "8d132c65-2f71-4345-9982-7664e01761ce",
   "metadata": {},
   "source": [
    "Q3. What is string slicing in python, and how can you extract a portion of a string using this method?\n",
    "\n",
    "Ans: String slicing in python refers to extracting specific portion (substring) of a string using indices. String slicing in python involves obtaining a sub-string from a given string by slicing it from start to end.Using index positions, slicing allows us to capture substring or characters, creating more flexible manipulation and analysis of text data."
   ]
  },
  {
   "cell_type": "code",
   "execution_count": 2,
   "id": "7a74661b-c9a2-4214-a37e-5a62242a7715",
   "metadata": {},
   "outputs": [
    {
     "data": {
      "text/plain": [
       "'I am learn'"
      ]
     },
     "execution_count": 2,
     "metadata": {},
     "output_type": "execute_result"
    }
   ],
   "source": [
    "#Example of string slicing \n",
    "str1=\"I am learning pwskills from physics wallah\"\n",
    "str1[0:10]"
   ]
  },
  {
   "cell_type": "code",
   "execution_count": 4,
   "id": "f839742f-cd5b-4510-a6fe-fef4d8914850",
   "metadata": {},
   "outputs": [
    {
     "data": {
      "text/plain": [
       "'I am learning pwskills from physics'"
      ]
     },
     "execution_count": 4,
     "metadata": {},
     "output_type": "execute_result"
    }
   ],
   "source": [
    "str2=\"I am learning pwskills from physics wallah\"\n",
    "str2[:-7]"
   ]
  },
  {
   "cell_type": "code",
   "execution_count": 5,
   "id": "84f566e4-d515-4a94-8a45-adb996ef76b7",
   "metadata": {},
   "outputs": [
    {
     "data": {
      "text/plain": [
       "'cs wallah'"
      ]
     },
     "execution_count": 5,
     "metadata": {},
     "output_type": "execute_result"
    }
   ],
   "source": [
    "str3=\"I am learning pwskills from physics wallah\"\n",
    "str3[-9:]"
   ]
  },
  {
   "cell_type": "markdown",
   "id": "c3c8541c-6edb-46ec-8645-4fc215d7c5ef",
   "metadata": {},
   "source": [
    "Q4.How can you change the case of a string in Python, and can you provide examples of both making a string all uppercase and all lowercase?\n",
    "\n",
    "Ans: We can change the case of a string in python by using .upper() and .lower(),\n",
    ".upper() method on a string converts all of the characters to uppercase and .lower() methhod converts all of the characters to lowercase.we can also use .swapcase() to convert uppercase letters to lowercase letters and vice versa, .capitalize can also be used to capitalize the current string, it returns a string with the very first letter capitalized,that is in uppercase and the remaining characters of that string are converted to lowercase letters."
   ]
  },
  {
   "cell_type": "code",
   "execution_count": 6,
   "id": "a5edeff0-5870-40be-8e37-b0f39cd5a319",
   "metadata": {},
   "outputs": [
    {
     "data": {
      "text/plain": [
       "'I AM A STUDENT'"
      ]
     },
     "execution_count": 6,
     "metadata": {},
     "output_type": "execute_result"
    }
   ],
   "source": [
    "#Example of making a string all uppercase\n",
    "text=\"i am a student\"\n",
    "text.upper()"
   ]
  },
  {
   "cell_type": "code",
   "execution_count": 7,
   "id": "237fa6f8-fd8d-4d82-ba35-4b5e72c76c10",
   "metadata": {},
   "outputs": [
    {
     "data": {
      "text/plain": [
       "'i am in a car'"
      ]
     },
     "execution_count": 7,
     "metadata": {},
     "output_type": "execute_result"
    }
   ],
   "source": [
    "#Example of making a string all lowercase\n",
    "text1=\"I AM IN A CAR\"\n",
    "text1.lower()"
   ]
  },
  {
   "cell_type": "markdown",
   "id": "06767015-51ba-4163-a9d9-d738b002321b",
   "metadata": {},
   "source": [
    "Q5. What does the split() method do in python,and how can you split a string using a specific delimiter?\n",
    "\n",
    "Ans:The split() method is the most common way to split a string into a list in Python.This method splits a string into substring based on a delimiter and returns a list of these substrings.We can split a string by using .split()"
   ]
  },
  {
   "cell_type": "code",
   "execution_count": 1,
   "id": "de3c61b0-8857-4114-8df1-9548ab47b3a4",
   "metadata": {},
   "outputs": [
    {
     "data": {
      "text/plain": [
       "['I', 'like', 'to', 'travel']"
      ]
     },
     "execution_count": 1,
     "metadata": {},
     "output_type": "execute_result"
    }
   ],
   "source": [
    "#Example of splitting a string\n",
    "text=(\"I like to travel\")\n",
    "text.split()"
   ]
  }
 ],
 "metadata": {
  "kernelspec": {
   "display_name": "Python 3 (ipykernel)",
   "language": "python",
   "name": "python3"
  },
  "language_info": {
   "codemirror_mode": {
    "name": "ipython",
    "version": 3
   },
   "file_extension": ".py",
   "mimetype": "text/x-python",
   "name": "python",
   "nbconvert_exporter": "python",
   "pygments_lexer": "ipython3",
   "version": "3.10.8"
  }
 },
 "nbformat": 4,
 "nbformat_minor": 5
}
